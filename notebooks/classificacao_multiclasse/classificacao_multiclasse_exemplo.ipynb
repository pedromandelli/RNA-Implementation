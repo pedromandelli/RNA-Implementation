{
 "cells": [
  {
   "cell_type": "markdown",
   "metadata": {},
   "source": [
    "# Exemplo de Classificação Multiclasse com RNA (Dataset Wine)\n",
    "\n",
    "Este notebook demonstra o uso da implementação de Rede Neural Artificial (RNA) para um problema de classificação com múltiplas classes, utilizando o dataset Wine da UCI."
   ]
  },
  {
   "cell_type": "markdown",
   "metadata": {},
   "source": [
    "## 1. Importação das Bibliotecas"
   ]
  },
  {
   "cell_type": "code",
   "execution_count": 1,
   "metadata": {},
   "outputs": [],
   "source": [
    "import numpy as np\n",
    "import pandas as pd\n",
    "import matplotlib.pyplot as plt\n",
    "import seaborn as sns\n",
    "from sklearn.model_selection import train_test_split\n",
    "from sklearn.preprocessing import StandardScaler, OneHotEncoder\n",
    "from sklearn.metrics import accuracy_score, classification_report, confusion_matrix\n",
    "import sys\n",
    "import os\n",
    "\n",
    "# Configurações de visualização\n",
    "plt.style.use('ggplot')\n",
    "%matplotlib inline"
   ]
  },
  {
   "cell_type": "markdown",
   "metadata": {},
   "source": [
    "## 2. Importação da RNA Implementada"
   ]
  },
  {
   "cell_type": "code",
   "execution_count": 2,
   "metadata": {},
   "outputs": [],
   "source": [
    "# Adicionar o diretório src ao PYTHONPATH se estiver executando localmente\n",
    "module_path = os.path.abspath(os.path.join(os.getcwd(), '..', '..'))\n",
    "if module_path not in sys.path:\n",
    "    sys.path.insert(0, module_path)"
   ]
  },
  {
   "cell_type": "code",
   "execution_count": 3,
   "metadata": {},
   "outputs": [],
   "source": [
    "from src.rna import NeuralNetwork"
   ]
  },
  {
   "cell_type": "markdown",
   "metadata": {},
   "source": [
    "## 3. Carregamento e Exploração dos Dados (Wine Dataset)"
   ]
  },
  {
   "cell_type": "code",
   "execution_count": 4,
   "metadata": {},
   "outputs": [
    {
     "name": "stdout",
     "output_type": "stream",
     "text": [
      "Primeiras 5 linhas do conjunto de dados:\n"
     ]
    },
    {
     "data": {
      "text/html": [
       "<div>\n",
       "<style scoped>\n",
       "    .dataframe tbody tr th:only-of-type {\n",
       "        vertical-align: middle;\n",
       "    }\n",
       "\n",
       "    .dataframe tbody tr th {\n",
       "        vertical-align: top;\n",
       "    }\n",
       "\n",
       "    .dataframe thead th {\n",
       "        text-align: right;\n",
       "    }\n",
       "</style>\n",
       "<table border=\"1\" class=\"dataframe\">\n",
       "  <thead>\n",
       "    <tr style=\"text-align: right;\">\n",
       "      <th></th>\n",
       "      <th>alcohol</th>\n",
       "      <th>malic_acid</th>\n",
       "      <th>ash</th>\n",
       "      <th>alcalinity_of_ash</th>\n",
       "      <th>magnesium</th>\n",
       "      <th>total_phenols</th>\n",
       "      <th>flavanoids</th>\n",
       "      <th>nonflavanoid_phenols</th>\n",
       "      <th>proanthocyanins</th>\n",
       "      <th>color_intensity</th>\n",
       "      <th>hue</th>\n",
       "      <th>od280/od315_of_diluted_wines</th>\n",
       "      <th>proline</th>\n",
       "      <th>wine_class</th>\n",
       "    </tr>\n",
       "  </thead>\n",
       "  <tbody>\n",
       "    <tr>\n",
       "      <th>0</th>\n",
       "      <td>14.23</td>\n",
       "      <td>1.71</td>\n",
       "      <td>2.43</td>\n",
       "      <td>15.6</td>\n",
       "      <td>127.0</td>\n",
       "      <td>2.80</td>\n",
       "      <td>3.06</td>\n",
       "      <td>0.28</td>\n",
       "      <td>2.29</td>\n",
       "      <td>5.64</td>\n",
       "      <td>1.04</td>\n",
       "      <td>3.92</td>\n",
       "      <td>1065.0</td>\n",
       "      <td>class_0</td>\n",
       "    </tr>\n",
       "    <tr>\n",
       "      <th>1</th>\n",
       "      <td>13.20</td>\n",
       "      <td>1.78</td>\n",
       "      <td>2.14</td>\n",
       "      <td>11.2</td>\n",
       "      <td>100.0</td>\n",
       "      <td>2.65</td>\n",
       "      <td>2.76</td>\n",
       "      <td>0.26</td>\n",
       "      <td>1.28</td>\n",
       "      <td>4.38</td>\n",
       "      <td>1.05</td>\n",
       "      <td>3.40</td>\n",
       "      <td>1050.0</td>\n",
       "      <td>class_0</td>\n",
       "    </tr>\n",
       "    <tr>\n",
       "      <th>2</th>\n",
       "      <td>13.16</td>\n",
       "      <td>2.36</td>\n",
       "      <td>2.67</td>\n",
       "      <td>18.6</td>\n",
       "      <td>101.0</td>\n",
       "      <td>2.80</td>\n",
       "      <td>3.24</td>\n",
       "      <td>0.30</td>\n",
       "      <td>2.81</td>\n",
       "      <td>5.68</td>\n",
       "      <td>1.03</td>\n",
       "      <td>3.17</td>\n",
       "      <td>1185.0</td>\n",
       "      <td>class_0</td>\n",
       "    </tr>\n",
       "    <tr>\n",
       "      <th>3</th>\n",
       "      <td>14.37</td>\n",
       "      <td>1.95</td>\n",
       "      <td>2.50</td>\n",
       "      <td>16.8</td>\n",
       "      <td>113.0</td>\n",
       "      <td>3.85</td>\n",
       "      <td>3.49</td>\n",
       "      <td>0.24</td>\n",
       "      <td>2.18</td>\n",
       "      <td>7.80</td>\n",
       "      <td>0.86</td>\n",
       "      <td>3.45</td>\n",
       "      <td>1480.0</td>\n",
       "      <td>class_0</td>\n",
       "    </tr>\n",
       "    <tr>\n",
       "      <th>4</th>\n",
       "      <td>13.24</td>\n",
       "      <td>2.59</td>\n",
       "      <td>2.87</td>\n",
       "      <td>21.0</td>\n",
       "      <td>118.0</td>\n",
       "      <td>2.80</td>\n",
       "      <td>2.69</td>\n",
       "      <td>0.39</td>\n",
       "      <td>1.82</td>\n",
       "      <td>4.32</td>\n",
       "      <td>1.04</td>\n",
       "      <td>2.93</td>\n",
       "      <td>735.0</td>\n",
       "      <td>class_0</td>\n",
       "    </tr>\n",
       "  </tbody>\n",
       "</table>\n",
       "</div>"
      ],
      "text/plain": [
       "   alcohol  malic_acid   ash  alcalinity_of_ash  magnesium  total_phenols  \\\n",
       "0    14.23        1.71  2.43               15.6      127.0           2.80   \n",
       "1    13.20        1.78  2.14               11.2      100.0           2.65   \n",
       "2    13.16        2.36  2.67               18.6      101.0           2.80   \n",
       "3    14.37        1.95  2.50               16.8      113.0           3.85   \n",
       "4    13.24        2.59  2.87               21.0      118.0           2.80   \n",
       "\n",
       "   flavanoids  nonflavanoid_phenols  proanthocyanins  color_intensity   hue  \\\n",
       "0        3.06                  0.28             2.29             5.64  1.04   \n",
       "1        2.76                  0.26             1.28             4.38  1.05   \n",
       "2        3.24                  0.30             2.81             5.68  1.03   \n",
       "3        3.49                  0.24             2.18             7.80  0.86   \n",
       "4        2.69                  0.39             1.82             4.32  1.04   \n",
       "\n",
       "   od280/od315_of_diluted_wines  proline wine_class  \n",
       "0                          3.92   1065.0    class_0  \n",
       "1                          3.40   1050.0    class_0  \n",
       "2                          3.17   1185.0    class_0  \n",
       "3                          3.45   1480.0    class_0  \n",
       "4                          2.93    735.0    class_0  "
      ]
     },
     "execution_count": 4,
     "metadata": {},
     "output_type": "execute_result"
    }
   ],
   "source": [
    "# Carregar o conjunto de dados Wine\n",
    "from sklearn.datasets import load_wine\n",
    "\n",
    "wine = load_wine()\n",
    "X = wine.data\n",
    "y = wine.target.reshape(-1, 1)\n",
    "\n",
    "df = pd.DataFrame(X, columns=wine.feature_names)\n",
    "df['wine_class'] = pd.Categorical.from_codes(wine.target, wine.target_names)\n",
    "\n",
    "print(\"Primeiras 5 linhas do conjunto de dados:\")\n",
    "df.head()"
   ]
  },
  {
   "cell_type": "markdown",
   "metadata": {},
   "source": [
    "## 4. Pré-processamento dos Dados"
   ]
  },
  {
   "cell_type": "code",
   "execution_count": 5,
   "metadata": {},
   "outputs": [
    {
     "name": "stdout",
     "output_type": "stream",
     "text": [
      "Formato de X após scaling: (178, 13)\n",
      "Formato de y após one-hot encoding: (178, 3)\n"
     ]
    }
   ],
   "source": [
    "# Normalizar as features\n",
    "scaler = StandardScaler()\n",
    "X_scaled = scaler.fit_transform(X)\n",
    "\n",
    "# Codificar o target (y) para o formato One-Hot\n",
    "encoder = OneHotEncoder(sparse_output=False)\n",
    "y_onehot = encoder.fit_transform(y)\n",
    "\n",
    "print(f\"Formato de X após scaling: {X_scaled.shape}\")\n",
    "print(f\"Formato de y após one-hot encoding: {y_onehot.shape}\")"
   ]
  },
  {
   "cell_type": "code",
   "execution_count": 6,
   "metadata": {},
   "outputs": [
    {
     "name": "stdout",
     "output_type": "stream",
     "text": [
      "Tamanho treino: 106 (59.55%)\n",
      "Tamanho validação: 36 (20.22%)\n",
      "Tamanho teste: 36 (20.22%)\n",
      "Distribuição das classes em treinamento:\n",
      "1    43\n",
      "0    35\n",
      "2    28\n",
      "Name: count, dtype: int64\n",
      "Distribuição das classes em validação:\n",
      "1    14\n",
      "0    12\n",
      "2    10\n",
      "Name: count, dtype: int64\n",
      "Distribuição das classes em teste:\n",
      "1    14\n",
      "0    12\n",
      "2    10\n",
      "Name: count, dtype: int64\n"
     ]
    }
   ],
   "source": [
    "# Dividir os dados em treino (60%), validação (20%) e teste (20%) - seguindo a orientação do professor\n",
    "\n",
    "# Primeiro, separar 20% dos dados para teste\n",
    "X_temp, X_test, y_temp, y_test = train_test_split(\n",
    "    X_scaled, y_onehot, test_size=0.20, random_state=42, stratify=y)\n",
    "\n",
    "# Depois, separar 25% dos dados restantes para validação (25% de 80% = 20% do total)\n",
    "X_train, X_val, y_train, y_val = train_test_split(\n",
    "    X_temp, y_temp, test_size=0.25, random_state=42, stratify=np.argmax(y_temp, axis=1))\n",
    "\n",
    "# Tamanhos\n",
    "print(f\"Tamanho treino: {X_train.shape[0]} ({X_train.shape[0]/X.shape[0]*100:.2f}%)\")\n",
    "print(f\"Tamanho validação: {X_val.shape[0]} ({X_val.shape[0]/X.shape[0]*100:.2f}%)\")\n",
    "print(f\"Tamanho teste: {X_test.shape[0]} ({X_test.shape[0]/X.shape[0]*100:.2f}%)\")\n",
    "\n",
    "# Distribuição de classes\n",
    "print(f\"Distribuição das classes em treinamento:\\n{pd.Series(np.argmax(y_train, axis=1)).value_counts()}\")\n",
    "print(f\"Distribuição das classes em validação:\\n{pd.Series(np.argmax(y_val, axis=1)).value_counts()}\")\n",
    "print(f\"Distribuição das classes em teste:\\n{pd.Series(np.argmax(y_test, axis=1)).value_counts()}\")"
   ]
  },
  {
   "cell_type": "markdown",
   "metadata": {},
   "source": [
    "## 5. Criação e Treinamento do Modelo"
   ]
  },
  {
   "cell_type": "code",
   "execution_count": 7,
   "metadata": {},
   "outputs": [
    {
     "name": "stdout",
     "output_type": "stream",
     "text": [
      "Arquitetura do modelo:\n",
      "NeuralNetwork(layers=[13, 10, 10, 3], activation=['relu', 'relu', 'softmax'])\n"
     ]
    }
   ],
   "source": [
    "n_features = X_train.shape[1]\n",
    "n_classes = y_train.shape[1]\n",
    "\n",
    "model = NeuralNetwork(\n",
    "    layer_sizes=[n_features, 10, 10, n_classes], # saída com o número de classes\n",
    "    activation_functions=['r'elu', 'relu', 'softmax'] # softmax na saída\n",
    ")\n",
    "\n",
    "print(\"Arquitetura do modelo:\")\n",
    "print(model)"
   ]
  },
  {
   "cell_type": "code",
   "execution_count": 8,
   "metadata": {},
   "outputs": [
    {
     "name": "stdout",
     "output_type": "stream",
     "text": [
      "Época 100/1000 - loss: 0.7925 - val_loss: 0.8014\n",
      "Época 200/1000 - loss: 0.5752 - val_loss: 0.5882\n",
      "Época 300/1000 - loss: 0.4093 - val_loss: 0.4266\n",
      "Época 400/1000 - loss: 0.2851 - val_loss: 0.3082\n",
      "Época 500/1000 - loss: 0.2029 - val_loss: 0.2318\n",
      "Época 600/1000 - loss: 0.1510 - val_loss: 0.1860\n",
      "Época 700/1000 - loss: 0.1176 - val_loss: 0.1580\n",
      "Época 800/1000 - loss: 0.0948 - val_loss: 0.1401\n",
      "Época 900/1000 - loss: 0.0786 - val_loss: 0.1281\n",
      "Época 1000/1000 - loss: 0.0665 - val_loss: 0.1199\n"
     ]
    }
   ],
   "source": [
    "history = model.fit(\n",
    "    X_train, y_train,\n",
    "    epochs=1000,\n",
    "    batch_size=16,\n",
    "    learning_rate=0.001,\n",
    "    loss_function='categorical_crossentropy',\n",
    "    optimizer='momentum',\n",
    "    verbose=True,\n",
    "    validation_data=(X_val, y_val)\n",
    ")"
   ]
  },
  {
   "cell_type": "markdown",
   "metadata": {},
   "source": [
    "## 6. Avaliação do Modelo"
   ]
  },
  {
   "cell_type": "code",
   "execution_count": 9,
   "metadata": {},
   "outputs": [
    {
     "name": "stdout",
     "output_type": "stream",
     "text": [
      "Acurácia no conjunto de teste: 0.9444 (94.44%)\n",
      "\n",
      "Relatório de Classificação:\n",
      "              precision    recall  f1-score   support\n",
      "\n",
      "     class_0       1.00      1.00      1.00        12\n",
      "     class_1       0.88      1.00      0.93        14\n",
      "     class_2       1.00      0.80      0.89        10\n",
      "\n",
      "    accuracy                           0.94        36\n",
      "   macro avg       0.96      0.93      0.94        36\n",
      "weighted avg       0.95      0.94      0.94        36\n",
      "\n",
      "O modelo atende ao requisito de desempenho.\n"
     ]
    }
   ],
   "source": [
    "# Fazer predições no conjunto de teste\n",
    "y_pred_proba = model.predict(X_test, output_activation='softmax')\n",
    "\n",
    "# Converter as probabilidades em classes (o índice com maior probabilidade)\n",
    "y_pred_classes = np.argmax(y_pred_proba, axis=1)\n",
    "y_test_classes = np.argmax(y_test, axis=1)\n",
    "\n",
    "# Calcular a acurácia\n",
    "accuracy = accuracy_score(y_test_classes, y_pred_classes)\n",
    "\n",
    "print(f\"Acurácia no conjunto de teste: {accuracy:.4f} ({accuracy*100:.2f}%)\")\n",
    "\n",
    "print(\"\\nRelatório de Classificação:\")\n",
    "print(classification_report(y_test_classes, y_pred_classes, target_names=wine.target_names))\n",
    "\n",
    "# Verificar se atende ao requisito do enunciado (erro < 50% -> acurácia > 50%)\n",
    "print(f\"O modelo {'atende' if accuracy > 0.5 else 'não atende'} ao requisito de desempenho.\")"
   ]
  },
  {
   "cell_type": "markdown",
   "metadata": {},
   "source": [
    "## 7. Visualização dos Resultados"
   ]
  },
  {
   "cell_type": "code",
   "execution_count": 10,
   "metadata": {},
   "outputs": [
    {
     "data": {
      "image/png": "[encoded data removed]",
      "text/plain": [
       "<Figure size 1000x600 with 1 Axes>"
      ]
     },
     "metadata": {},
     "output_type": "display_data"
    }
   ],
   "source": [
    "# Visualizar a curva de aprendizado\n",
    "plt.figure(figsize=(10, 6))\n",
    "plt.plot(history['loss'], label='Training Loss')\n",
    "if 'val_loss' in history:\n",
    "    plt.plot(history['val_loss'], label='Validation Loss')\n",
    "plt.title('Curva de Aprendizado')\n",
    "plt.xlabel('Época')\n",
    "plt.ylabel('Loss (Categorical Cross-Entropy)')\n",
    "plt.legend()\n",
    "plt.show()"
   ]
  },
  {
   "cell_type": "code",
   "execution_count": 11,
   "metadata": {},
   "outputs": [
    {
     "data": {
      "image/png": "[encoded data removed]",
      "text/plain": [
       "<Figure size 800x600 with 2 Axes>"
      ]
     },
     "metadata": {},
     "output_type": "display_data"
    }
   ],
   "source": [
    "# Visualizar a Matriz de Confusão\n",
    "cm = confusion_matrix(y_test_classes, y_pred_classes)\n",
    "\n",
    "plt.figure(figsize=(8, 6))\n",
    "sns.heatmap(cm, annot=True, fmt='d', cmap='Blues', \n",
    "            xticklabels=wine.target_names, yticklabels=wine.target_names)\n",
    "plt.title('Matriz de Confusão')\n",
    "plt.xlabel('Classe Predita')\n",
    "plt.ylabel('Classe Real')\n",
    "plt.show()"
   ]
  },
  {
   "cell_type": "markdown",
   "metadata": {},
   "source": [
    "## 8. Conclusão\n",
    "\n",
    "Neste notebook, demonstramos o uso da nossa implementação de RNA para um problema de classificação multiclasse, utilizando o dataset Wine. O modelo foi capaz de aprender a distinguir entre os diferentes tipos de vinho com alta acurácia, atendendo aos requisitos do projeto."
   ]
  }
 ],
 "metadata": {
  "kernelspec": {
   "display_name": "Python 3 (ipykernel)",
   "language": "python",
   "name": "python3"
  },
  "language_info": {
   "codemirror_mode": {
    "name": "ipython",
    "version": 3
   },
   "file_extension": ".py",
   "mimetype": "text/x-python",
   "name": "python",
   "nbconvert_exporter": "python",
   "pygments_lexer": "ipython3",
   "version": "3.10.12"
  }
 },
 "nbformat": 4,
 "nbformat_minor": 4
}
