{
 "cells": [
  {
   "cell_type": "markdown",
   "metadata": {},
   "source": [
    "# Exemplo de Regressão com RNA\n",
    "\n",
    "Este notebook demonstra o uso da implementação de Rede Neural Artificial (RNA) para um problema de regressão.\n"
   ]
  },
  {
   "cell_type": "markdown",
   "metadata": {},
   "source": [
    "## 1. Importação das Bibliotecas\n"
   ]
  },
  {
   "cell_type": "code",
   "execution_count": 5,
   "metadata": {},
   "outputs": [],
   "source": [
    "import numpy as np\n",
    "import pandas as pd\n",
    "import matplotlib.pyplot as plt\n",
    "from sklearn.model_selection import train_test_split\n",
    "from sklearn.preprocessing import StandardScaler\n",
    "from sklearn.metrics import mean_squared_error, r2_score\n",
    "import sys\n",
    "import os\n",
    "\n",
    "# Configurações de visualização\n",
    "plt.style.use('ggplot')\n",
    "%matplotlib inline\n"
   ]
  },
  {
   "cell_type": "markdown",
   "metadata": {},
   "source": [
    "## 2. Importação da RNA\n",
    "\n",
    "Para usar este notebook no Google Colab, você precisará carregar a implementação da RNA.\n"
   ]
  },
  {
   "cell_type": "code",
   "execution_count": 6,
   "metadata": {},
   "outputs": [],
   "source": [
    "import os\n",
    "try:\n",
    "    import google.colab\n",
    "    IN_COLAB = True\n",
    "    !git clone https://github.com/pedromandelli/RNA-Implementation.git\n",
    "    %cd RNA-Implementation\n",
    "    sys.path.insert(0, os.path.abspath(os.getcwd()))\n",
    "except:\n",
    "    IN_COLAB = False\n",
    "    # Adicionar o diretório src ao PYTHONPATH se estiver executando localmente\n",
    "    module_path = os.path.abspath(os.path.join(os.getcwd(), '..', '..'))\n",
    "    if module_path not in sys.path:\n",
    "        sys.path.insert(0, module_path)\n"
   ]
  },
  {
   "cell_type": "code",
   "execution_count": 7,
   "metadata": {},
   "outputs": [
    {
     "name": "stdout",
     "output_type": "stream",
     "text": [
      "Importação da NeuralNetwork bem-sucedida.\n"
     ]
    }
   ],
   "source": [
    "# Importar a implementação da RNA\n",
    "from src.rna import NeuralNetwork\n",
    "print(\"Importação da NeuralNetwork bem-sucedida.\")\n"
   ]
  },
  {
   "cell_type": "markdown",
   "metadata": {},
   "source": [
    "## 3. Carregamento e Exploração dos Dados\n",
    "\n",
    "Nesta seção, carregaremos um conjunto de dados para o problema de regressão e faremos uma exploração inicial.\n"
   ]
  },
  {
   "cell_type": "code",
   "execution_count": 8,
   "metadata": {
    "scrolled": true
   },
   "outputs": [
    {
     "ename": "TypeError",
     "evalue": "read_csv() missing 1 required positional argument: 'filepath_or_buffer'",
     "output_type": "error",
     "traceback": [
      "\u001b[0;31m---------------------------------------------------------------------------\u001b[0m",
      "\u001b[0;31mTypeError\u001b[0m                                 Traceback (most recent call last)",
      "Cell \u001b[0;32mIn[8], line 6\u001b[0m\n\u001b[1;32m      3\u001b[0m \u001b[38;5;28;01melse\u001b[39;00m:\n\u001b[1;32m      4\u001b[0m     data_path \u001b[38;5;241m=\u001b[39m \u001b[38;5;124m'\u001b[39m\u001b[38;5;124m../../src/datasets/winequality-white.csv\u001b[39m\u001b[38;5;124m'\u001b[39m\n\u001b[0;32m----> 6\u001b[0m df \u001b[38;5;241m=\u001b[39m \u001b[43mpd\u001b[49m\u001b[38;5;241;43m.\u001b[39;49m\u001b[43mread_csv\u001b[49m\u001b[43m(\u001b[49m\u001b[43msep\u001b[49m\u001b[38;5;241;43m=\u001b[39;49m\u001b[38;5;124;43m'\u001b[39;49m\u001b[38;5;124;43m;\u001b[39;49m\u001b[38;5;124;43m'\u001b[39;49m\u001b[43m)\u001b[49m\n\u001b[1;32m      8\u001b[0m X \u001b[38;5;241m=\u001b[39m df\u001b[38;5;241m.\u001b[39mdrop(\u001b[38;5;124m'\u001b[39m\u001b[38;5;124mquality\u001b[39m\u001b[38;5;124m'\u001b[39m, axis\u001b[38;5;241m=\u001b[39m\u001b[38;5;241m1\u001b[39m)\u001b[38;5;241m.\u001b[39mvalues\n\u001b[1;32m      9\u001b[0m y \u001b[38;5;241m=\u001b[39m df[\u001b[38;5;124m'\u001b[39m\u001b[38;5;124mquality\u001b[39m\u001b[38;5;124m'\u001b[39m]\u001b[38;5;241m.\u001b[39mvalues\u001b[38;5;241m.\u001b[39mreshape(\u001b[38;5;241m-\u001b[39m\u001b[38;5;241m1\u001b[39m, \u001b[38;5;241m1\u001b[39m)\n",
      "\u001b[0;31mTypeError\u001b[0m: read_csv() missing 1 required positional argument: 'filepath_or_buffer'"
     ]
    }
   ],
   "source": [
    "if IN_COLAB:\n",
    "    data_path = 'src/datasets/processed.winequality-white.csv'\n",
    "else:\n",
    "    data_path = '../../src/datasets/winequality-white.csv'\n",
    "\n",
    "df = pd.read_csv(data_path, sep=';')\n",
    "\n",
    "X = df.drop('quality', axis=1).values\n",
    "y = df['quality'].values.reshape(-1, 1)\n",
    "\n",
    "# Visualizar as primeiras linhas do conjunto de dados\n",
    "print(\"Primeiras 5 linhas do conjunto de dados:\")\n",
    "df.head()\n"
   ]
  },
  {
   "cell_type": "code",
   "execution_count": null,
   "metadata": {},
   "outputs": [],
   "source": [
    "# Estatísticas descritivas\n",
    "df.describe()\n",
    "df.corr()  # correlação entre atributos\n"
   ]
  },
  {
   "cell_type": "markdown",
   "metadata": {},
   "source": [
    "## 4. Pré-processamento dos Dados\n",
    "\n",
    "Nesta seção, realizaremos o pré-processamento necessário para preparar os dados para o treinamento da RNA.\n"
   ]
  },
  {
   "cell_type": "code",
   "execution_count": null,
   "metadata": {},
   "outputs": [],
   "source": [
    "# Dividir os dados em treino (60%), validação (20%) e teste (20%) - seguindo a orientação do professor\n",
    "\n",
    "# Primeiro, separar 20% dos dados para teste\n",
    "X_temp, X_test, y_temp, y_test = train_test_split(\n",
    "    X, y, test_size=0.20, random_state=42)\n",
    "\n",
    "# Depois, separar 25% dos dados restantes para validação (25% de 80% = 20% do total)\n",
    "X_train, X_val, y_train, y_val = train_test_split(\n",
    "    X_temp, y_temp, test_size=0.25, random_state=42)\n",
    "\n",
    "print(f\"Tamanho do conjunto de treinamento: {X_train.shape}\")\n",
    "print(f\"Tamanho do conjunto de validação: {X_val.shape}\")\n",
    "print(f\"Tamanho do conjunto de teste: {X_test.shape}\")\n"
   ]
  },
  {
   "cell_type": "code",
   "execution_count": null,
   "metadata": {},
   "outputs": [],
   "source": [
    "# Normalizar os dados\n",
    "scaler_X = StandardScaler()\n",
    "X_train = scaler_X.fit_transform(X_train)\n",
    "X_val = scaler_X.transform(X_val)\n",
    "X_test = scaler_X.transform(X_test)\n",
    "\n",
    "scaler_y = StandardScaler()\n",
    "y_train = scaler_y.fit_transform(y_train)\n",
    "y_val = scaler_y.transform(y_val)\n",
    "y_test = scaler_y.transform(y_test)\n",
    "\n",
    "print(\"Média e desvio padrão após normalização:\")\n",
    "print(f\"X_train média: {X_train.mean()}, desvio padrão: {X_train.std()}\")\n",
    "print(f\"y_train média: {y_train.mean()}, desvio padrão: {y_train.std()}\")\n"
   ]
  },
  {
   "cell_type": "markdown",
   "metadata": {},
   "source": [
    "## 5. Visualização dos Dados\n",
    "\n",
    "Vamos visualizar algumas características dos dados para entender melhor o problema.\n"
   ]
  },
  {
   "cell_type": "code",
   "execution_count": null,
   "metadata": {
    "scrolled": true
   },
   "outputs": [],
   "source": [
    "# Visualizar a relação entre as features e o target\n",
    "import matplotlib.pyplot as plt\n",
    "\n",
    "features = df.columns.drop('quality')  # ou df.columns[:-1]\n",
    "fig, axes = plt.subplots(3, 4, figsize=(20, 12))  # há 11 features, então 3x4\n",
    "\n",
    "axes = axes.flatten()\n",
    "\n",
    "for i, feature_name in enumerate(features):\n",
    "    axes[i].scatter(df[feature_name], df['quality'], alpha=0.5, s=5)\n",
    "    axes[i].set_xlabel(feature_name)\n",
    "    axes[i].set_ylabel('Quality')\n",
    "    axes[i].set_title(f'{feature_name} vs Quality')\n",
    "\n",
    "# Esconde qualquer subplot vazio\n",
    "for j in range(len(features), len(axes)):\n",
    "    axes[j].axis('off')\n",
    "\n",
    "plt.tight_layout()\n",
    "plt.show()\n"
   ]
  },
  {
   "cell_type": "markdown",
   "metadata": {},
   "source": [
    "## 6. Criação e Treinamento do Modelo\n",
    "\n",
    "Nesta seção, criaremos e treinaremos o modelo de RNA para o problema de regressão.\n"
   ]
  },
  {
   "cell_type": "code",
   "execution_count": null,
   "metadata": {
    "scrolled": true
   },
   "outputs": [],
   "source": [
    "# Criar o modelo\n",
    "model = NeuralNetwork(\n",
    "    layer_sizes=[X_train.shape[1], 64, 32, 16, 1],\n",
    "    activation_functions=[ 'relu', 'relu', 'relu', 'linear']\n",
    ")\n",
    "\n",
    "print(\"Arquitetura do modelo:\")\n",
    "print(model)\n"
   ]
  },
  {
   "cell_type": "code",
   "execution_count": null,
   "metadata": {},
   "outputs": [],
   "source": [
    "# Treinar o modelo\n",
    "history = model.fit(\n",
    "    X_train, y_train,\n",
    "    epochs=10000,\n",
    "    batch_size=32,\n",
    "    learning_rate=0.001,\n",
    "    loss_function='mse',\n",
    "    optimizer='momentum',\n",
    "    verbose=True,\n",
    "    validation_data=(X_val, y_val)\n",
    ")\n"
   ]
  },
  {
   "cell_type": "markdown",
   "metadata": {},
   "source": [
    "## 7. Avaliação do Modelo\n",
    "\n",
    "Nesta seção, avaliaremos o desempenho do modelo treinado.\n"
   ]
  },
  {
   "cell_type": "code",
   "execution_count": null,
   "metadata": {},
   "outputs": [],
   "source": [
    "# Fazer predições no conjunto de teste\n",
    "y_pred = model.predict(X_test)\n",
    "\n",
    "# Reverter a normalização para avaliar o desempenho nas unidades originais\n",
    "y_pred_original = scaler_y.inverse_transform(y_pred)\n",
    "y_test_original = scaler_y.inverse_transform(y_test)\n",
    "\n",
    "# Calcular métricas de desempenho\n",
    "mse = mean_squared_error(y_test_original, y_pred_original)\n",
    "rmse = np.sqrt(mse)\n",
    "r2 = r2_score(y_test_original, y_pred_original)\n",
    "\n",
    "print(f\"MSE: {mse:.4f}\")\n",
    "print(f\"RMSE: {rmse:.4f}\")\n",
    "print(f\"R²: {r2:.4f}\")\n"
   ]
  },
  {
   "cell_type": "code",
   "execution_count": null,
   "metadata": {},
   "outputs": [],
   "source": [
    "# Comparar com uma baseline (média simples)\n",
    "baseline_pred = np.full_like(y_test_original, scaler_y.inverse_transform(np.mean(y_train).reshape(1, -1)))\n",
    "baseline_mse = mean_squared_error(y_test_original, baseline_pred)\n",
    "baseline_rmse = np.sqrt(baseline_mse)\n",
    "baseline_r2 = r2_score(y_test_original, baseline_pred)\n",
    "\n",
    "print(f\"Baseline MSE: {baseline_mse:.4f}\")\n",
    "print(f\"Baseline RMSE: {baseline_rmse:.4f}\")\n",
    "print(f\"Baseline R²: {baseline_r2:.4f}\")\n",
    "print(f\"Melhoria sobre a baseline: {(1 - mse/baseline_mse)*100:.2f}%\")\n",
    "\n",
    "# Verificar se atende ao requisito do enunciado (erro < 50%)\n",
    "erro_relativo = rmse / np.mean(np.abs(y_test_original))\n",
    "print(f\"Erro relativo: {erro_relativo:.4f} ({erro_relativo*100:.2f}%)\")\n",
    "print(f\"O modelo {'atende' if erro_relativo < 0.5 else 'não atende'} ao requisito de erro < 50%\")\n"
   ]
  },
  {
   "cell_type": "markdown",
   "metadata": {},
   "source": [
    "## 8. Visualização dos Resultados\n",
    "\n",
    "Nesta seção, visualizaremos os resultados do treinamento e as predições do modelo.\n"
   ]
  },
  {
   "cell_type": "code",
   "execution_count": null,
   "metadata": {},
   "outputs": [],
   "source": [
    "# Reverter a normalização\n",
    "y_pred_original = scaler_y.inverse_transform(y_pred)\n",
    "y_test_original = scaler_y.inverse_transform(y_test)\n",
    "\n",
    "# Gráfico Predicted vs Actual\n",
    "plt.figure(figsize=(6, 6))\n",
    "plt.scatter(y_test_original, y_pred_original, alpha=0.5, color='salmon')\n",
    "plt.plot([y_test_original.min(), y_test_original.max()],\n",
    "         [y_test_original.min(), y_test_original.max()],\n",
    "         'r--')  # linha ideal\n",
    "plt.xlabel('Actual Quality')\n",
    "plt.ylabel('Predicted Quality')\n",
    "plt.title('Predicted vs Actual (Desnormalizado)')\n",
    "plt.grid(True)\n",
    "plt.tight_layout()\n",
    "plt.show()\n"
   ]
  },
  {
   "cell_type": "code",
   "execution_count": null,
   "metadata": {},
   "outputs": [],
   "source": [
    "# Visualizar a distribuição dos erros\n",
    "errors = y_pred_original - y_test_original\n",
    "plt.figure(figsize=(12, 5))\n",
    "\n",
    "plt.subplot(1, 2, 1)\n",
    "plt.hist(errors, bins=50, alpha=0.75)\n",
    "plt.axvline(x=0, color='r', linestyle='--')\n",
    "plt.title('Error Distribution')\n",
    "plt.xlabel('Prediction Error')\n",
    "plt.ylabel('Count')\n",
    "\n",
    "plt.subplot(1, 2, 2)\n",
    "plt.scatter(y_pred_original, errors, alpha=0.5)\n",
    "plt.axhline(y=0, color='r', linestyle='--')\n",
    "plt.title('Residual Plot')\n",
    "plt.xlabel('Predicted Value')\n",
    "plt.ylabel('Residual')\n",
    "\n",
    "plt.tight_layout()\n",
    "plt.show()\n"
   ]
  },
  {
   "cell_type": "markdown",
   "metadata": {},
   "source": [
    "## 9. Conclusão\n",
    "\n",
    "Neste notebook, demonstramos o uso da nossa implementação de RNA para um problema de regressão. O modelo foi capaz de aprender a relação entre as features e o target, apresentando um desempenho satisfatório conforme mostrado pelas métricas de avaliação.\n",
    "\n",
    "O erro do modelo é inferior a 50%, atendendo ao requisito especificado no enunciado do projeto.\n"
   ]
  },
  {
   "cell_type": "code",
   "execution_count": null,
   "metadata": {},
   "outputs": [],
   "source": []
  }
 ],
 "metadata": {
  "kernelspec": {
   "display_name": "Python 3 (ipykernel)",
   "language": "python",
   "name": "python3"
  },
  "language_info": {
   "codemirror_mode": {
    "name": "ipython",
    "version": 3
   },
   "file_extension": ".py",
   "mimetype": "text/x-python",
   "name": "python",
   "nbconvert_exporter": "python",
   "pygments_lexer": "ipython3",
   "version": "3.10.12"
  }
 },
 "nbformat": 4,
 "nbformat_minor": 4
}
