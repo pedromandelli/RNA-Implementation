{
 "cells": [
  {
   "cell_type": "code",
   "execution_count": 1,
   "metadata": {},
   "outputs": [
    {
     "ename": "SyntaxError",
     "evalue": "invalid syntax (4221008870.py, line 3)",
     "output_type": "error",
     "traceback": [
      "\u001b[0;36m  Cell \u001b[0;32mIn[1], line 3\u001b[0;36m\u001b[0m\n\u001b[0;31m    Este notebook demonstra o uso da implementação de Rede Neural Artificial (RNA) para um problema de classificação binária.\u001b[0m\n\u001b[0m         ^\u001b[0m\n\u001b[0;31mSyntaxError\u001b[0m\u001b[0;31m:\u001b[0m invalid syntax\n"
     ]
    }
   ],
   "source": [
    "# Exemplo de Classificação Binária com RNA\n",
    "\n",
    "Este notebook demonstra o uso da implementação de Rede Neural Artificial (RNA) para um problema de classificação binária.\n"
   ]
  },
  {
   "cell_type": "code",
   "execution_count": null,
   "metadata": {},
   "outputs": [],
   "source": [
    "## 1. Importação das Bibliotecas\n"
   ]
  },
  {
   "cell_type": "code",
   "execution_count": null,
   "metadata": {},
   "outputs": [],
   "source": [
    "import numpy as np\n",
    "import pandas as pd\n",
    "import matplotlib.pyplot as plt\n",
    "import seaborn as sns\n",
    "from sklearn.model_selection import train_test_split\n",
    "from sklearn.preprocessing import StandardScaler\n",
    "from sklearn.metrics import accuracy_score, precision_score, recall_score, f1_score, roc_auc_score, confusion_matrix\n",
    "import sys\n",
    "import os\n",
    "\n",
    "# Configurações de visualização\n",
    "plt.style.use('ggplot')\n",
    "%matplotlib inline\n"
   ]
  },
  {
   "cell_type": "code",
   "execution_count": null,
   "metadata": {},
   "outputs": [],
   "source": [
    "## 2. Importação da RNA\n",
    "\n",
    "Para usar este notebook no Google Colab, você precisará carregar a implementação da RNA.\n"
   ]
  },
  {
   "cell_type": "code",
   "execution_count": null,
   "metadata": {},
   "outputs": [],
   "source": [
    "# Clone o repositório se estiver no Colab\n",
    "import os\n",
    "try:\n",
    "    import google.colab\n",
    "    IN_COLAB = True\n",
    "    !git clone https://github.com/seu-usuario/ProjetoFinalML.git\n",
    "    %cd ProjetoFinalML\n",
    "    sys.path.insert(0, os.path.abspath(os.getcwd()))\n",
    "except:\n",
    "    IN_COLAB = False\n",
    "    # Adicionar o diretório src ao PYTHONPATH se estiver executando localmente\n",
    "    module_path = os.path.abspath(os.path.join(os.getcwd(), '..', '..'))\n",
    "    if module_path not in sys.path:\n",
    "        sys.path.insert(0, module_path)\n"
   ]
  },
  {
   "cell_type": "code",
   "execution_count": null,
   "metadata": {},
   "outputs": [],
   "source": [
    "# Importar a implementação da RNA\n",
    "from src.rna import NeuralNetwork\n"
   ]
  },
  {
   "cell_type": "code",
   "execution_count": null,
   "metadata": {},
   "outputs": [],
   "source": [
    "## 3. Carregamento e Exploração dos Dados\n",
    "\n",
    "Nesta seção, carregaremos um conjunto de dados para o problema de classificação binária e faremos uma exploração inicial. Usaremos o dataset de Câncer de Mama de Wisconsin, que é um problema clássico de classificação binária.\n"
   ]
  },
  {
   "cell_type": "code",
   "execution_count": null,
   "metadata": {},
   "outputs": [],
   "source": [
    "# Carregar o conjunto de dados de Câncer de Mama\n",
    "from sklearn.datasets import load_breast_cancer\n",
    "\n",
    "cancer = load_breast_cancer()\n",
    "X = cancer.data\n",
    "y = cancer.target.reshape(-1, 1)  # Garantir que y é uma matriz de coluna\n",
    "\n",
    "# Visualizar as primeiras linhas do conjunto de dados\n",
    "df = pd.DataFrame(X, columns=cancer.feature_names)\n",
    "df['Target'] = y\n",
    "print(\"Primeiras 5 linhas do conjunto de dados:\")\n",
    "df.head()\n"
   ]
  },
  {
   "cell_type": "code",
   "execution_count": null,
   "metadata": {},
   "outputs": [],
   "source": [
    "# Informações sobre o dataset\n",
    "print(f\"Formato do conjunto de dados: {X.shape}\")\n",
    "print(f\"Número de classes: {len(np.unique(y))}\")\n",
    "print(f\"Classes: {cancer.target_names}\")\n",
    "print(f\"Distribuição das classes:\")\n",
    "print(pd.Series(y.flatten()).value_counts())\n"
   ]
  },
  {
   "cell_type": "code",
   "execution_count": null,
   "metadata": {},
   "outputs": [],
   "source": [
    "# Estatísticas descritivas\n",
    "print(\"Estatísticas descritivas do conjunto de dados:\")\n",
    "df.describe()\n"
   ]
  },
  {
   "cell_type": "code",
   "execution_count": null,
   "metadata": {},
   "outputs": [],
   "source": [
    "## 4. Pré-processamento dos Dados\n",
    "\n",
    "Nesta seção, realizaremos o pré-processamento necessário para preparar os dados para o treinamento da RNA.\n"
   ]
  },
  {
   "cell_type": "code",
   "execution_count": null,
   "metadata": {},
   "outputs": [],
   "source": [
    "# Dividir os dados em treino, validação e teste\n",
    "X_train_val, X_test, y_train_val, y_test = train_test_split(X, y, test_size=0.2, random_state=42, stratify=y)\n",
    "X_train, X_val, y_train, y_val = train_test_split(X_train_val, y_train_val, test_size=0.25, random_state=42, stratify=y_train_val)\n",
    "\n",
    "print(f\"Tamanho do conjunto de treinamento: {X_train.shape}\")\n",
    "print(f\"Tamanho do conjunto de validação: {X_val.shape}\")\n",
    "print(f\"Tamanho do conjunto de teste: {X_test.shape}\")\n",
    "print(f\"Distribuição das classes em treinamento: {pd.Series(y_train.flatten()).value_counts()}\")\n",
    "print(f\"Distribuição das classes em validação: {pd.Series(y_val.flatten()).value_counts()}\")\n",
    "print(f\"Distribuição das classes em teste: {pd.Series(y_test.flatten()).value_counts()}\")\n"
   ]
  },
  {
   "cell_type": "code",
   "execution_count": 2,
   "metadata": {},
   "outputs": [
    {
     "ename": "NameError",
     "evalue": "name 'StandardScaler' is not defined",
     "output_type": "error",
     "traceback": [
      "\u001b[0;31m---------------------------------------------------------------------------\u001b[0m",
      "\u001b[0;31mNameError\u001b[0m                                 Traceback (most recent call last)",
      "Cell \u001b[0;32mIn[2], line 2\u001b[0m\n\u001b[1;32m      1\u001b[0m \u001b[38;5;66;03m# Normalizar os dados\u001b[39;00m\n\u001b[0;32m----> 2\u001b[0m scaler \u001b[38;5;241m=\u001b[39m \u001b[43mStandardScaler\u001b[49m()\n\u001b[1;32m      3\u001b[0m X_train \u001b[38;5;241m=\u001b[39m scaler\u001b[38;5;241m.\u001b[39mfit_transform(X_train)\n\u001b[1;32m      4\u001b[0m X_val \u001b[38;5;241m=\u001b[39m scaler\u001b[38;5;241m.\u001b[39mtransform(X_val)\n",
      "\u001b[0;31mNameError\u001b[0m: name 'StandardScaler' is not defined"
     ]
    }
   ],
   "source": [
    "# Normalizar os dados\n",
    "scaler = StandardScaler()\n",
    "X_train = scaler.fit_transform(X_train)\n",
    "X_val = scaler.transform(X_val)\n",
    "X_test = scaler.transform(X_test)\n",
    "\n",
    "print(\"Média e desvio padrão após normalização:\")\n",
    "print(f\"X_train média: {X_train.mean()}, desvio padrão: {X_train.std()}\")\n"
   ]
  },
  {
   "cell_type": "code",
   "execution_count": null,
   "metadata": {},
   "outputs": [],
   "source": [
    "## 5. Visualização dos Dados\n",
    "\n",
    "Vamos visualizar algumas características dos dados para entender melhor o problema.\n"
   ]
  },
  {
   "cell_type": "code",
   "execution_count": null,
   "metadata": {},
   "outputs": [],
   "source": [
    "# Visualizar a distribuição das classes\n",
    "plt.figure(figsize=(8, 6))\n",
    "sns.countplot(x='Target', data=df)\n",
    "plt.title('Distribuição das Classes')\n",
    "plt.xlabel('Classe (0: Maligno, 1: Benigno)')\n",
    "plt.ylabel('Contagem')\n",
    "plt.show()\n"
   ]
  },
  {
   "cell_type": "code",
   "execution_count": null,
   "metadata": {},
   "outputs": [],
   "source": [
    "# Selecionar algumas features para visualização\n",
    "selected_features = ['mean radius', 'mean texture', 'mean perimeter', 'mean area', 'mean smoothness', 'mean compactness']\n",
    "\n",
    "# Criar uma matriz de scatter plots para as features selecionadas\n",
    "plt.figure(figsize=(15, 10))\n",
    "sns.pairplot(df[selected_features + ['Target']], hue='Target')\n",
    "plt.suptitle('Pairplot de Features Selecionadas', y=1.02)\n",
    "plt.show()\n"
   ]
  },
  {
   "cell_type": "code",
   "execution_count": null,
   "metadata": {},
   "outputs": [],
   "source": [
    "# Visualizar correlações entre features\n",
    "plt.figure(figsize=(20, 16))\n",
    "correlation_matrix = df.corr()\n",
    "mask = np.triu(correlation_matrix)\n",
    "sns.heatmap(correlation_matrix, annot=False, mask=mask, cmap='coolwarm', vmin=-1, vmax=1)\n",
    "plt.title('Matriz de Correlação')\n",
    "plt.show()\n"
   ]
  },
  {
   "cell_type": "code",
   "execution_count": null,
   "metadata": {},
   "outputs": [],
   "source": [
    "## 6. Criação e Treinamento do Modelo\n",
    "\n",
    "Nesta seção, criaremos e treinaremos o modelo de RNA para o problema de classificação binária.\n"
   ]
  },
  {
   "cell_type": "code",
   "execution_count": null,
   "metadata": {},
   "outputs": [],
   "source": [
    "# Criar o modelo\n",
    "model = NeuralNetwork(\n",
    "    layer_sizes=[X_train.shape[1], 16, 8, 1],\n",
    "    activation_functions=['relu', 'relu', 'sigmoid']\n",
    ")\n",
    "\n",
    "print(\"Arquitetura do modelo:\")\n",
    "print(model)\n"
   ]
  },
  {
   "cell_type": "code",
   "execution_count": null,
   "metadata": {},
   "outputs": [],
   "source": [
    "# Treinar o modelo\n",
    "history = model.fit(\n",
    "    X_train, y_train,\n",
    "    epochs=500,\n",
    "    batch_size=32,\n",
    "    learning_rate=0.01,\n",
    "    loss_function='binary_crossentropy',\n",
    "    optimizer='momentum',\n",
    "    verbose=True,\n",
    "    validation_data=(X_val, y_val)\n",
    ")\n"
   ]
  }
 ],
 "metadata": {
  "kernelspec": {
   "display_name": "Python 3 (ipykernel)",
   "language": "python",
   "name": "python3"
  },
  "language_info": {
   "codemirror_mode": {
    "name": "ipython",
    "version": 3
   },
   "file_extension": ".py",
   "mimetype": "text/x-python",
   "name": "python",
   "nbconvert_exporter": "python",
   "pygments_lexer": "ipython3",
   "version": "3.10.12"
  }
 },
 "nbformat": 4,
 "nbformat_minor": 4
}
